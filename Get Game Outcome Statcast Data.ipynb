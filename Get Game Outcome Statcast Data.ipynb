{
 "cells": [
  {
   "cell_type": "code",
   "execution_count": 308,
   "metadata": {
    "collapsed": true
   },
   "outputs": [],
   "source": [
    "import pybaseball_edited as pyb\n",
    "import pybaseball_edited.team_game_logs as pyb_tgl\n",
    "import pandas as pd\n",
    "import numpy as np\n",
    "from dateutil import parser\n",
    "import re"
   ]
  },
  {
   "cell_type": "code",
   "execution_count": 309,
   "outputs": [
    {
     "data": {
      "text/plain": "      yearID lgID teamID franchID  teamIDfg teamIDBR teamIDretro\n2925    2020   AL    BAL      BAL         2      BAL         BAL\n2926    2020   AL    BOS      BOS         3      BOS         BOS\n2927    2020   AL    CHA      CHW         4      CHW         CHA\n2928    2020   AL    CLE      CLE         5      CLE         CLE\n2929    2020   AL    DET      DET         6      DET         DET\n2930    2020   AL    HOU      HOU        21      HOU         HOU\n2931    2020   AL    KCA      KCR         7      KCR         KCA\n2932    2020   AL    LAA      ANA         1      LAA         ANA\n2933    2020   AL    MIN      MIN         8      MIN         MIN\n2934    2020   AL    NYA      NYY         9      NYY         NYA\n2935    2020   AL    OAK      OAK        10      OAK         OAK\n2936    2020   AL    SEA      SEA        11      SEA         SEA\n2937    2020   AL    TBA      TBD        12      TBR         TBA\n2938    2020   AL    TEX      TEX        13      TEX         TEX\n2939    2020   AL    TOR      TOR        14      TOR         TOR\n2940    2020   NL    ARI      ARI        15      ARI         ARI\n2941    2020   NL    ATL      ATL        16      ATL         ATL\n2942    2020   NL    CHN      CHC        17      CHC         CHN\n2943    2020   NL    CIN      CIN        18      CIN         CIN\n2944    2020   NL    COL      COL        19      COL         COL\n2945    2020   NL    LAN      LAD        22      LAD         LAN\n2946    2020   NL    MIA      FLA        20      MIA         MIA\n2947    2020   NL    MIL      MIL        23      MIL         MIL\n2948    2020   NL    NYN      NYM        25      NYM         NYN\n2949    2020   NL    PHI      PHI        26      PHI         PHI\n2950    2020   NL    PIT      PIT        27      PIT         PIT\n2951    2020   NL    SDN      SDP        29      SDP         SDN\n2952    2020   NL    SFN      SFG        30      SFG         SFN\n2953    2020   NL    SLN      STL        28      STL         SLN\n2954    2020   NL    WAS      WSN        24      WSN         WAS",
      "text/html": "<div>\n<style scoped>\n    .dataframe tbody tr th:only-of-type {\n        vertical-align: middle;\n    }\n\n    .dataframe tbody tr th {\n        vertical-align: top;\n    }\n\n    .dataframe thead th {\n        text-align: right;\n    }\n</style>\n<table border=\"1\" class=\"dataframe\">\n  <thead>\n    <tr style=\"text-align: right;\">\n      <th></th>\n      <th>yearID</th>\n      <th>lgID</th>\n      <th>teamID</th>\n      <th>franchID</th>\n      <th>teamIDfg</th>\n      <th>teamIDBR</th>\n      <th>teamIDretro</th>\n    </tr>\n  </thead>\n  <tbody>\n    <tr>\n      <th>2925</th>\n      <td>2020</td>\n      <td>AL</td>\n      <td>BAL</td>\n      <td>BAL</td>\n      <td>2</td>\n      <td>BAL</td>\n      <td>BAL</td>\n    </tr>\n    <tr>\n      <th>2926</th>\n      <td>2020</td>\n      <td>AL</td>\n      <td>BOS</td>\n      <td>BOS</td>\n      <td>3</td>\n      <td>BOS</td>\n      <td>BOS</td>\n    </tr>\n    <tr>\n      <th>2927</th>\n      <td>2020</td>\n      <td>AL</td>\n      <td>CHA</td>\n      <td>CHW</td>\n      <td>4</td>\n      <td>CHW</td>\n      <td>CHA</td>\n    </tr>\n    <tr>\n      <th>2928</th>\n      <td>2020</td>\n      <td>AL</td>\n      <td>CLE</td>\n      <td>CLE</td>\n      <td>5</td>\n      <td>CLE</td>\n      <td>CLE</td>\n    </tr>\n    <tr>\n      <th>2929</th>\n      <td>2020</td>\n      <td>AL</td>\n      <td>DET</td>\n      <td>DET</td>\n      <td>6</td>\n      <td>DET</td>\n      <td>DET</td>\n    </tr>\n    <tr>\n      <th>2930</th>\n      <td>2020</td>\n      <td>AL</td>\n      <td>HOU</td>\n      <td>HOU</td>\n      <td>21</td>\n      <td>HOU</td>\n      <td>HOU</td>\n    </tr>\n    <tr>\n      <th>2931</th>\n      <td>2020</td>\n      <td>AL</td>\n      <td>KCA</td>\n      <td>KCR</td>\n      <td>7</td>\n      <td>KCR</td>\n      <td>KCA</td>\n    </tr>\n    <tr>\n      <th>2932</th>\n      <td>2020</td>\n      <td>AL</td>\n      <td>LAA</td>\n      <td>ANA</td>\n      <td>1</td>\n      <td>LAA</td>\n      <td>ANA</td>\n    </tr>\n    <tr>\n      <th>2933</th>\n      <td>2020</td>\n      <td>AL</td>\n      <td>MIN</td>\n      <td>MIN</td>\n      <td>8</td>\n      <td>MIN</td>\n      <td>MIN</td>\n    </tr>\n    <tr>\n      <th>2934</th>\n      <td>2020</td>\n      <td>AL</td>\n      <td>NYA</td>\n      <td>NYY</td>\n      <td>9</td>\n      <td>NYY</td>\n      <td>NYA</td>\n    </tr>\n    <tr>\n      <th>2935</th>\n      <td>2020</td>\n      <td>AL</td>\n      <td>OAK</td>\n      <td>OAK</td>\n      <td>10</td>\n      <td>OAK</td>\n      <td>OAK</td>\n    </tr>\n    <tr>\n      <th>2936</th>\n      <td>2020</td>\n      <td>AL</td>\n      <td>SEA</td>\n      <td>SEA</td>\n      <td>11</td>\n      <td>SEA</td>\n      <td>SEA</td>\n    </tr>\n    <tr>\n      <th>2937</th>\n      <td>2020</td>\n      <td>AL</td>\n      <td>TBA</td>\n      <td>TBD</td>\n      <td>12</td>\n      <td>TBR</td>\n      <td>TBA</td>\n    </tr>\n    <tr>\n      <th>2938</th>\n      <td>2020</td>\n      <td>AL</td>\n      <td>TEX</td>\n      <td>TEX</td>\n      <td>13</td>\n      <td>TEX</td>\n      <td>TEX</td>\n    </tr>\n    <tr>\n      <th>2939</th>\n      <td>2020</td>\n      <td>AL</td>\n      <td>TOR</td>\n      <td>TOR</td>\n      <td>14</td>\n      <td>TOR</td>\n      <td>TOR</td>\n    </tr>\n    <tr>\n      <th>2940</th>\n      <td>2020</td>\n      <td>NL</td>\n      <td>ARI</td>\n      <td>ARI</td>\n      <td>15</td>\n      <td>ARI</td>\n      <td>ARI</td>\n    </tr>\n    <tr>\n      <th>2941</th>\n      <td>2020</td>\n      <td>NL</td>\n      <td>ATL</td>\n      <td>ATL</td>\n      <td>16</td>\n      <td>ATL</td>\n      <td>ATL</td>\n    </tr>\n    <tr>\n      <th>2942</th>\n      <td>2020</td>\n      <td>NL</td>\n      <td>CHN</td>\n      <td>CHC</td>\n      <td>17</td>\n      <td>CHC</td>\n      <td>CHN</td>\n    </tr>\n    <tr>\n      <th>2943</th>\n      <td>2020</td>\n      <td>NL</td>\n      <td>CIN</td>\n      <td>CIN</td>\n      <td>18</td>\n      <td>CIN</td>\n      <td>CIN</td>\n    </tr>\n    <tr>\n      <th>2944</th>\n      <td>2020</td>\n      <td>NL</td>\n      <td>COL</td>\n      <td>COL</td>\n      <td>19</td>\n      <td>COL</td>\n      <td>COL</td>\n    </tr>\n    <tr>\n      <th>2945</th>\n      <td>2020</td>\n      <td>NL</td>\n      <td>LAN</td>\n      <td>LAD</td>\n      <td>22</td>\n      <td>LAD</td>\n      <td>LAN</td>\n    </tr>\n    <tr>\n      <th>2946</th>\n      <td>2020</td>\n      <td>NL</td>\n      <td>MIA</td>\n      <td>FLA</td>\n      <td>20</td>\n      <td>MIA</td>\n      <td>MIA</td>\n    </tr>\n    <tr>\n      <th>2947</th>\n      <td>2020</td>\n      <td>NL</td>\n      <td>MIL</td>\n      <td>MIL</td>\n      <td>23</td>\n      <td>MIL</td>\n      <td>MIL</td>\n    </tr>\n    <tr>\n      <th>2948</th>\n      <td>2020</td>\n      <td>NL</td>\n      <td>NYN</td>\n      <td>NYM</td>\n      <td>25</td>\n      <td>NYM</td>\n      <td>NYN</td>\n    </tr>\n    <tr>\n      <th>2949</th>\n      <td>2020</td>\n      <td>NL</td>\n      <td>PHI</td>\n      <td>PHI</td>\n      <td>26</td>\n      <td>PHI</td>\n      <td>PHI</td>\n    </tr>\n    <tr>\n      <th>2950</th>\n      <td>2020</td>\n      <td>NL</td>\n      <td>PIT</td>\n      <td>PIT</td>\n      <td>27</td>\n      <td>PIT</td>\n      <td>PIT</td>\n    </tr>\n    <tr>\n      <th>2951</th>\n      <td>2020</td>\n      <td>NL</td>\n      <td>SDN</td>\n      <td>SDP</td>\n      <td>29</td>\n      <td>SDP</td>\n      <td>SDN</td>\n    </tr>\n    <tr>\n      <th>2952</th>\n      <td>2020</td>\n      <td>NL</td>\n      <td>SFN</td>\n      <td>SFG</td>\n      <td>30</td>\n      <td>SFG</td>\n      <td>SFN</td>\n    </tr>\n    <tr>\n      <th>2953</th>\n      <td>2020</td>\n      <td>NL</td>\n      <td>SLN</td>\n      <td>STL</td>\n      <td>28</td>\n      <td>STL</td>\n      <td>SLN</td>\n    </tr>\n    <tr>\n      <th>2954</th>\n      <td>2020</td>\n      <td>NL</td>\n      <td>WAS</td>\n      <td>WSN</td>\n      <td>24</td>\n      <td>WSN</td>\n      <td>WAS</td>\n    </tr>\n  </tbody>\n</table>\n</div>"
     },
     "execution_count": 309,
     "metadata": {},
     "output_type": "execute_result"
    }
   ],
   "source": [
    "team_data = pyb.teamid_lookup.team_ids(season=2020)\n",
    "team_data"
   ],
   "metadata": {
    "collapsed": false,
    "pycharm": {
     "name": "#%%\n"
    }
   }
  },
  {
   "cell_type": "code",
   "execution_count": 310,
   "outputs": [
    {
     "data": {
      "text/plain": "['ARI',\n 'ATL',\n 'BAL',\n 'BOS',\n 'CHC',\n 'CHW',\n 'CIN',\n 'CLE',\n 'COL',\n 'DET',\n 'HOU',\n 'KCR',\n 'LAA',\n 'LAD',\n 'MIA',\n 'MIL',\n 'MIN',\n 'NYM',\n 'NYY',\n 'OAK',\n 'PHI',\n 'PIT',\n 'SDP',\n 'SEA',\n 'SFG',\n 'STL',\n 'TBR',\n 'TEX',\n 'TOR',\n 'WSN']"
     },
     "execution_count": 310,
     "metadata": {},
     "output_type": "execute_result"
    }
   ],
   "source": [
    "all_teams_list = list(team_data['teamIDBR'])\n",
    "all_teams_list.sort()\n",
    "all_teams_list"
   ],
   "metadata": {
    "collapsed": false,
    "pycharm": {
     "name": "#%%\n"
    }
   }
  },
  {
   "cell_type": "code",
   "execution_count": 311,
   "outputs": [],
   "source": [
    "with open('data/2021_game_logs_team_list.csv', 'w') as f:\n",
    "    for team in all_teams_list:\n",
    "        f.write(team + '\\n')"
   ],
   "metadata": {
    "collapsed": false,
    "pycharm": {
     "name": "#%%\n"
    }
   }
  },
  {
   "cell_type": "code",
   "execution_count": 312,
   "outputs": [
    {
     "data": {
      "text/plain": "      Game    Date   Home  Opp    Rslt  PA  AB   R   H  2B  ...  CS     BA  \\\n0        1   Apr 1   True  SDP   L,7-8  41  40   7  12   3  ...   0  0.300   \n1        2   Apr 2   True  SDP   L,2-4  38  36   2   8   1  ...   0  0.263   \n2        3   Apr 3   True  SDP   L,0-7  30  30   0   4   0  ...   0  0.226   \n3        4   Apr 4   True  SDP   W,3-1  38  32   3   6   1  ...   0  0.217   \n4        5   Apr 6   True  COL  W,10-8  57  53  10  13   3  ...   0  0.225   \n...    ...     ...    ...  ...     ...  ..  ..  ..  ..  ..  ...  ..    ...   \n4853   158  Sep 28   True  COL   L,1-3  35  30   1   7   2  ...   0  0.259   \n4854   159  Sep 29   True  COL  L,5-10  41  34   5   9   2  ...   0  0.259   \n4855   160   Oct 1  False  BOS   L,2-4  41  35   2   9   2  ...   0  0.259   \n4856   161   Oct 2  False  BOS   L,3-5  37  31   3   5   1  ...   0  0.258   \n4857   162   Oct 3  False  BOS   L,5-7  39  33   5   7   5  ...   0  0.258   \n\n        OBP    SLG    OPS  LOB  NumPlayers  Thr         OppStart  team  \n0     0.317  0.675  0.992    7          16    R    Y.Darvish(37)   ARI  \n1     0.291  0.513  0.804    9          17    L      B.Snell(62)   ARI  \n2     0.248  0.406  0.653    3          13    R   J.Musgrove(74)   ARI  \n3     0.265  0.377  0.642    8          16    R    C.Paddack(44)   ARI  \n4     0.275  0.387  0.662    8          19    R    G.Marquez(53)   ARI  \n...     ...    ...    ...  ...         ...  ...              ...   ...  \n4853  0.337  0.418  0.755    7          12    L   K.Freeland(57)   WSN  \n4854  0.337  0.418  0.755    9          19    R    P.Lambert(20)   WSN  \n4855  0.337  0.418  0.755   12          15    L  E.Rodriguez(60)   WSN  \n4856  0.337  0.417  0.754    7          18    R      T.Houck(75)   WSN  \n4857  0.337  0.417  0.754    7          18    L       C.Sale(45)   WSN  \n\n[4858 rows x 32 columns]",
      "text/html": "<div>\n<style scoped>\n    .dataframe tbody tr th:only-of-type {\n        vertical-align: middle;\n    }\n\n    .dataframe tbody tr th {\n        vertical-align: top;\n    }\n\n    .dataframe thead th {\n        text-align: right;\n    }\n</style>\n<table border=\"1\" class=\"dataframe\">\n  <thead>\n    <tr style=\"text-align: right;\">\n      <th></th>\n      <th>Game</th>\n      <th>Date</th>\n      <th>Home</th>\n      <th>Opp</th>\n      <th>Rslt</th>\n      <th>PA</th>\n      <th>AB</th>\n      <th>R</th>\n      <th>H</th>\n      <th>2B</th>\n      <th>...</th>\n      <th>CS</th>\n      <th>BA</th>\n      <th>OBP</th>\n      <th>SLG</th>\n      <th>OPS</th>\n      <th>LOB</th>\n      <th>NumPlayers</th>\n      <th>Thr</th>\n      <th>OppStart</th>\n      <th>team</th>\n    </tr>\n  </thead>\n  <tbody>\n    <tr>\n      <th>0</th>\n      <td>1</td>\n      <td>Apr 1</td>\n      <td>True</td>\n      <td>SDP</td>\n      <td>L,7-8</td>\n      <td>41</td>\n      <td>40</td>\n      <td>7</td>\n      <td>12</td>\n      <td>3</td>\n      <td>...</td>\n      <td>0</td>\n      <td>0.300</td>\n      <td>0.317</td>\n      <td>0.675</td>\n      <td>0.992</td>\n      <td>7</td>\n      <td>16</td>\n      <td>R</td>\n      <td>Y.Darvish(37)</td>\n      <td>ARI</td>\n    </tr>\n    <tr>\n      <th>1</th>\n      <td>2</td>\n      <td>Apr 2</td>\n      <td>True</td>\n      <td>SDP</td>\n      <td>L,2-4</td>\n      <td>38</td>\n      <td>36</td>\n      <td>2</td>\n      <td>8</td>\n      <td>1</td>\n      <td>...</td>\n      <td>0</td>\n      <td>0.263</td>\n      <td>0.291</td>\n      <td>0.513</td>\n      <td>0.804</td>\n      <td>9</td>\n      <td>17</td>\n      <td>L</td>\n      <td>B.Snell(62)</td>\n      <td>ARI</td>\n    </tr>\n    <tr>\n      <th>2</th>\n      <td>3</td>\n      <td>Apr 3</td>\n      <td>True</td>\n      <td>SDP</td>\n      <td>L,0-7</td>\n      <td>30</td>\n      <td>30</td>\n      <td>0</td>\n      <td>4</td>\n      <td>0</td>\n      <td>...</td>\n      <td>0</td>\n      <td>0.226</td>\n      <td>0.248</td>\n      <td>0.406</td>\n      <td>0.653</td>\n      <td>3</td>\n      <td>13</td>\n      <td>R</td>\n      <td>J.Musgrove(74)</td>\n      <td>ARI</td>\n    </tr>\n    <tr>\n      <th>3</th>\n      <td>4</td>\n      <td>Apr 4</td>\n      <td>True</td>\n      <td>SDP</td>\n      <td>W,3-1</td>\n      <td>38</td>\n      <td>32</td>\n      <td>3</td>\n      <td>6</td>\n      <td>1</td>\n      <td>...</td>\n      <td>0</td>\n      <td>0.217</td>\n      <td>0.265</td>\n      <td>0.377</td>\n      <td>0.642</td>\n      <td>8</td>\n      <td>16</td>\n      <td>R</td>\n      <td>C.Paddack(44)</td>\n      <td>ARI</td>\n    </tr>\n    <tr>\n      <th>4</th>\n      <td>5</td>\n      <td>Apr 6</td>\n      <td>True</td>\n      <td>COL</td>\n      <td>W,10-8</td>\n      <td>57</td>\n      <td>53</td>\n      <td>10</td>\n      <td>13</td>\n      <td>3</td>\n      <td>...</td>\n      <td>0</td>\n      <td>0.225</td>\n      <td>0.275</td>\n      <td>0.387</td>\n      <td>0.662</td>\n      <td>8</td>\n      <td>19</td>\n      <td>R</td>\n      <td>G.Marquez(53)</td>\n      <td>ARI</td>\n    </tr>\n    <tr>\n      <th>...</th>\n      <td>...</td>\n      <td>...</td>\n      <td>...</td>\n      <td>...</td>\n      <td>...</td>\n      <td>...</td>\n      <td>...</td>\n      <td>...</td>\n      <td>...</td>\n      <td>...</td>\n      <td>...</td>\n      <td>...</td>\n      <td>...</td>\n      <td>...</td>\n      <td>...</td>\n      <td>...</td>\n      <td>...</td>\n      <td>...</td>\n      <td>...</td>\n      <td>...</td>\n      <td>...</td>\n    </tr>\n    <tr>\n      <th>4853</th>\n      <td>158</td>\n      <td>Sep 28</td>\n      <td>True</td>\n      <td>COL</td>\n      <td>L,1-3</td>\n      <td>35</td>\n      <td>30</td>\n      <td>1</td>\n      <td>7</td>\n      <td>2</td>\n      <td>...</td>\n      <td>0</td>\n      <td>0.259</td>\n      <td>0.337</td>\n      <td>0.418</td>\n      <td>0.755</td>\n      <td>7</td>\n      <td>12</td>\n      <td>L</td>\n      <td>K.Freeland(57)</td>\n      <td>WSN</td>\n    </tr>\n    <tr>\n      <th>4854</th>\n      <td>159</td>\n      <td>Sep 29</td>\n      <td>True</td>\n      <td>COL</td>\n      <td>L,5-10</td>\n      <td>41</td>\n      <td>34</td>\n      <td>5</td>\n      <td>9</td>\n      <td>2</td>\n      <td>...</td>\n      <td>0</td>\n      <td>0.259</td>\n      <td>0.337</td>\n      <td>0.418</td>\n      <td>0.755</td>\n      <td>9</td>\n      <td>19</td>\n      <td>R</td>\n      <td>P.Lambert(20)</td>\n      <td>WSN</td>\n    </tr>\n    <tr>\n      <th>4855</th>\n      <td>160</td>\n      <td>Oct 1</td>\n      <td>False</td>\n      <td>BOS</td>\n      <td>L,2-4</td>\n      <td>41</td>\n      <td>35</td>\n      <td>2</td>\n      <td>9</td>\n      <td>2</td>\n      <td>...</td>\n      <td>0</td>\n      <td>0.259</td>\n      <td>0.337</td>\n      <td>0.418</td>\n      <td>0.755</td>\n      <td>12</td>\n      <td>15</td>\n      <td>L</td>\n      <td>E.Rodriguez(60)</td>\n      <td>WSN</td>\n    </tr>\n    <tr>\n      <th>4856</th>\n      <td>161</td>\n      <td>Oct 2</td>\n      <td>False</td>\n      <td>BOS</td>\n      <td>L,3-5</td>\n      <td>37</td>\n      <td>31</td>\n      <td>3</td>\n      <td>5</td>\n      <td>1</td>\n      <td>...</td>\n      <td>0</td>\n      <td>0.258</td>\n      <td>0.337</td>\n      <td>0.417</td>\n      <td>0.754</td>\n      <td>7</td>\n      <td>18</td>\n      <td>R</td>\n      <td>T.Houck(75)</td>\n      <td>WSN</td>\n    </tr>\n    <tr>\n      <th>4857</th>\n      <td>162</td>\n      <td>Oct 3</td>\n      <td>False</td>\n      <td>BOS</td>\n      <td>L,5-7</td>\n      <td>39</td>\n      <td>33</td>\n      <td>5</td>\n      <td>7</td>\n      <td>5</td>\n      <td>...</td>\n      <td>0</td>\n      <td>0.258</td>\n      <td>0.337</td>\n      <td>0.417</td>\n      <td>0.754</td>\n      <td>7</td>\n      <td>18</td>\n      <td>L</td>\n      <td>C.Sale(45)</td>\n      <td>WSN</td>\n    </tr>\n  </tbody>\n</table>\n<p>4858 rows × 32 columns</p>\n</div>"
     },
     "execution_count": 312,
     "metadata": {},
     "output_type": "execute_result"
    }
   ],
   "source": [
    "gl_df_list = []\n",
    "num_games_total = 0\n",
    "reprocess_games = False\n",
    "\n",
    "if reprocess_games:\n",
    "    for i, team in enumerate(all_teams_list):\n",
    "        print(f\"Getting game logs for {team}... \", end=\"\")\n",
    "        gl_i = pd.DataFrame(pyb_tgl(season=2021,team=team))\n",
    "        gl_i['team'] = team\n",
    "        gl_df_list.append(gl_i)\n",
    "        print(\"Done!\")\n",
    "        num_games_i = len(gl_i)\n",
    "        num_games_total += num_games_i\n",
    "        print(f\"Team # games = {num_games_i}, Total games read = {num_games_total}\")\n",
    "\n",
    "    raw_br_game_logs_df = pd.concat(gl_df_list, ignore_index=True)\n",
    "\n",
    "raw_br_game_logs_df"
   ],
   "metadata": {
    "collapsed": false,
    "pycharm": {
     "name": "#%%\n"
    }
   }
  },
  {
   "cell_type": "code",
   "execution_count": 313,
   "outputs": [],
   "source": [
    "raw_br_game_logs_df.to_csv('data/2021_game_logs_raw.csv')"
   ],
   "metadata": {
    "collapsed": false,
    "pycharm": {
     "name": "#%%\n"
    }
   }
  },
  {
   "cell_type": "code",
   "execution_count": 314,
   "outputs": [],
   "source": [
    "game_logs_df = raw_br_game_logs_df.copy()"
   ],
   "metadata": {
    "collapsed": false,
    "pycharm": {
     "name": "#%%\n"
    }
   }
  },
  {
   "cell_type": "code",
   "execution_count": 315,
   "outputs": [],
   "source": [
    "game_logs_df.rename(columns={\n",
    "    'Home': 'played_at_opp',\n",
    "    'Opp': 'opp_team',\n",
    "    'Rslt': 'team_game_result',\n",
    "    'Game': 'team_game_order',\n",
    "    'Date': 'orig_game_date'\n",
    "}, inplace=True)"
   ],
   "metadata": {
    "collapsed": false,
    "pycharm": {
     "name": "#%%\n"
    }
   }
  },
  {
   "cell_type": "code",
   "execution_count": 316,
   "outputs": [],
   "source": [
    "def get_wl_and_scores(result_str:str):\n",
    "    w_or_l, score_str = result_str.split(\",\")\n",
    "    team_runs, opp_runs = score_str.split(\"-\")\n",
    "    out_values = pd.Series([w_or_l, team_runs, opp_runs])\n",
    "    return out_values"
   ],
   "metadata": {
    "collapsed": false,
    "pycharm": {
     "name": "#%%\n"
    }
   }
  },
  {
   "cell_type": "code",
   "execution_count": 317,
   "outputs": [
    {
     "name": "stdout",
     "output_type": "stream",
     "text": [
      "L,7-8\n",
      "\n",
      "0    L\n",
      "1    7\n",
      "2    8\n",
      "dtype: object\n"
     ]
    }
   ],
   "source": [
    "test_str = game_logs_df['team_game_result'][0]\n",
    "print(test_str+'\\n')\n",
    "print(get_wl_and_scores(test_str))"
   ],
   "metadata": {
    "collapsed": false,
    "pycharm": {
     "name": "#%%\n"
    }
   }
  },
  {
   "cell_type": "code",
   "execution_count": 318,
   "outputs": [
    {
     "data": {
      "text/plain": "      team_game_order orig_game_date  played_at_opp opp_team team_game_result  \\\n0                   1          Apr 1           True      SDP            L,7-8   \n1                   2          Apr 2           True      SDP            L,2-4   \n2                   3          Apr 3           True      SDP            L,0-7   \n3                   4          Apr 4           True      SDP            W,3-1   \n4                   5          Apr 6           True      COL           W,10-8   \n...               ...            ...            ...      ...              ...   \n4853              158         Sep 28           True      COL            L,1-3   \n4854              159         Sep 29           True      COL           L,5-10   \n4855              160          Oct 1          False      BOS            L,2-4   \n4856              161          Oct 2          False      BOS            L,3-5   \n4857              162          Oct 3          False      BOS            L,5-7   \n\n      PA  AB   R   H  2B  ...    SLG    OPS  LOB  NumPlayers  Thr  \\\n0     41  40   7  12   3  ...  0.675  0.992    7          16    R   \n1     38  36   2   8   1  ...  0.513  0.804    9          17    L   \n2     30  30   0   4   0  ...  0.406  0.653    3          13    R   \n3     38  32   3   6   1  ...  0.377  0.642    8          16    R   \n4     57  53  10  13   3  ...  0.387  0.662    8          19    R   \n...   ..  ..  ..  ..  ..  ...    ...    ...  ...         ...  ...   \n4853  35  30   1   7   2  ...  0.418  0.755    7          12    L   \n4854  41  34   5   9   2  ...  0.418  0.755    9          19    R   \n4855  41  35   2   9   2  ...  0.418  0.755   12          15    L   \n4856  37  31   3   5   1  ...  0.417  0.754    7          18    R   \n4857  39  33   5   7   5  ...  0.417  0.754    7          18    L   \n\n             OppStart  team  team_w_or_l  team_runs  opp_runs  \n0       Y.Darvish(37)   ARI            L          7         8  \n1         B.Snell(62)   ARI            L          2         4  \n2      J.Musgrove(74)   ARI            L          0         7  \n3       C.Paddack(44)   ARI            W          3         1  \n4       G.Marquez(53)   ARI            W         10         8  \n...               ...   ...          ...        ...       ...  \n4853   K.Freeland(57)   WSN            L          1         3  \n4854    P.Lambert(20)   WSN            L          5        10  \n4855  E.Rodriguez(60)   WSN            L          2         4  \n4856      T.Houck(75)   WSN            L          3         5  \n4857       C.Sale(45)   WSN            L          5         7  \n\n[4858 rows x 35 columns]",
      "text/html": "<div>\n<style scoped>\n    .dataframe tbody tr th:only-of-type {\n        vertical-align: middle;\n    }\n\n    .dataframe tbody tr th {\n        vertical-align: top;\n    }\n\n    .dataframe thead th {\n        text-align: right;\n    }\n</style>\n<table border=\"1\" class=\"dataframe\">\n  <thead>\n    <tr style=\"text-align: right;\">\n      <th></th>\n      <th>team_game_order</th>\n      <th>orig_game_date</th>\n      <th>played_at_opp</th>\n      <th>opp_team</th>\n      <th>team_game_result</th>\n      <th>PA</th>\n      <th>AB</th>\n      <th>R</th>\n      <th>H</th>\n      <th>2B</th>\n      <th>...</th>\n      <th>SLG</th>\n      <th>OPS</th>\n      <th>LOB</th>\n      <th>NumPlayers</th>\n      <th>Thr</th>\n      <th>OppStart</th>\n      <th>team</th>\n      <th>team_w_or_l</th>\n      <th>team_runs</th>\n      <th>opp_runs</th>\n    </tr>\n  </thead>\n  <tbody>\n    <tr>\n      <th>0</th>\n      <td>1</td>\n      <td>Apr 1</td>\n      <td>True</td>\n      <td>SDP</td>\n      <td>L,7-8</td>\n      <td>41</td>\n      <td>40</td>\n      <td>7</td>\n      <td>12</td>\n      <td>3</td>\n      <td>...</td>\n      <td>0.675</td>\n      <td>0.992</td>\n      <td>7</td>\n      <td>16</td>\n      <td>R</td>\n      <td>Y.Darvish(37)</td>\n      <td>ARI</td>\n      <td>L</td>\n      <td>7</td>\n      <td>8</td>\n    </tr>\n    <tr>\n      <th>1</th>\n      <td>2</td>\n      <td>Apr 2</td>\n      <td>True</td>\n      <td>SDP</td>\n      <td>L,2-4</td>\n      <td>38</td>\n      <td>36</td>\n      <td>2</td>\n      <td>8</td>\n      <td>1</td>\n      <td>...</td>\n      <td>0.513</td>\n      <td>0.804</td>\n      <td>9</td>\n      <td>17</td>\n      <td>L</td>\n      <td>B.Snell(62)</td>\n      <td>ARI</td>\n      <td>L</td>\n      <td>2</td>\n      <td>4</td>\n    </tr>\n    <tr>\n      <th>2</th>\n      <td>3</td>\n      <td>Apr 3</td>\n      <td>True</td>\n      <td>SDP</td>\n      <td>L,0-7</td>\n      <td>30</td>\n      <td>30</td>\n      <td>0</td>\n      <td>4</td>\n      <td>0</td>\n      <td>...</td>\n      <td>0.406</td>\n      <td>0.653</td>\n      <td>3</td>\n      <td>13</td>\n      <td>R</td>\n      <td>J.Musgrove(74)</td>\n      <td>ARI</td>\n      <td>L</td>\n      <td>0</td>\n      <td>7</td>\n    </tr>\n    <tr>\n      <th>3</th>\n      <td>4</td>\n      <td>Apr 4</td>\n      <td>True</td>\n      <td>SDP</td>\n      <td>W,3-1</td>\n      <td>38</td>\n      <td>32</td>\n      <td>3</td>\n      <td>6</td>\n      <td>1</td>\n      <td>...</td>\n      <td>0.377</td>\n      <td>0.642</td>\n      <td>8</td>\n      <td>16</td>\n      <td>R</td>\n      <td>C.Paddack(44)</td>\n      <td>ARI</td>\n      <td>W</td>\n      <td>3</td>\n      <td>1</td>\n    </tr>\n    <tr>\n      <th>4</th>\n      <td>5</td>\n      <td>Apr 6</td>\n      <td>True</td>\n      <td>COL</td>\n      <td>W,10-8</td>\n      <td>57</td>\n      <td>53</td>\n      <td>10</td>\n      <td>13</td>\n      <td>3</td>\n      <td>...</td>\n      <td>0.387</td>\n      <td>0.662</td>\n      <td>8</td>\n      <td>19</td>\n      <td>R</td>\n      <td>G.Marquez(53)</td>\n      <td>ARI</td>\n      <td>W</td>\n      <td>10</td>\n      <td>8</td>\n    </tr>\n    <tr>\n      <th>...</th>\n      <td>...</td>\n      <td>...</td>\n      <td>...</td>\n      <td>...</td>\n      <td>...</td>\n      <td>...</td>\n      <td>...</td>\n      <td>...</td>\n      <td>...</td>\n      <td>...</td>\n      <td>...</td>\n      <td>...</td>\n      <td>...</td>\n      <td>...</td>\n      <td>...</td>\n      <td>...</td>\n      <td>...</td>\n      <td>...</td>\n      <td>...</td>\n      <td>...</td>\n      <td>...</td>\n    </tr>\n    <tr>\n      <th>4853</th>\n      <td>158</td>\n      <td>Sep 28</td>\n      <td>True</td>\n      <td>COL</td>\n      <td>L,1-3</td>\n      <td>35</td>\n      <td>30</td>\n      <td>1</td>\n      <td>7</td>\n      <td>2</td>\n      <td>...</td>\n      <td>0.418</td>\n      <td>0.755</td>\n      <td>7</td>\n      <td>12</td>\n      <td>L</td>\n      <td>K.Freeland(57)</td>\n      <td>WSN</td>\n      <td>L</td>\n      <td>1</td>\n      <td>3</td>\n    </tr>\n    <tr>\n      <th>4854</th>\n      <td>159</td>\n      <td>Sep 29</td>\n      <td>True</td>\n      <td>COL</td>\n      <td>L,5-10</td>\n      <td>41</td>\n      <td>34</td>\n      <td>5</td>\n      <td>9</td>\n      <td>2</td>\n      <td>...</td>\n      <td>0.418</td>\n      <td>0.755</td>\n      <td>9</td>\n      <td>19</td>\n      <td>R</td>\n      <td>P.Lambert(20)</td>\n      <td>WSN</td>\n      <td>L</td>\n      <td>5</td>\n      <td>10</td>\n    </tr>\n    <tr>\n      <th>4855</th>\n      <td>160</td>\n      <td>Oct 1</td>\n      <td>False</td>\n      <td>BOS</td>\n      <td>L,2-4</td>\n      <td>41</td>\n      <td>35</td>\n      <td>2</td>\n      <td>9</td>\n      <td>2</td>\n      <td>...</td>\n      <td>0.418</td>\n      <td>0.755</td>\n      <td>12</td>\n      <td>15</td>\n      <td>L</td>\n      <td>E.Rodriguez(60)</td>\n      <td>WSN</td>\n      <td>L</td>\n      <td>2</td>\n      <td>4</td>\n    </tr>\n    <tr>\n      <th>4856</th>\n      <td>161</td>\n      <td>Oct 2</td>\n      <td>False</td>\n      <td>BOS</td>\n      <td>L,3-5</td>\n      <td>37</td>\n      <td>31</td>\n      <td>3</td>\n      <td>5</td>\n      <td>1</td>\n      <td>...</td>\n      <td>0.417</td>\n      <td>0.754</td>\n      <td>7</td>\n      <td>18</td>\n      <td>R</td>\n      <td>T.Houck(75)</td>\n      <td>WSN</td>\n      <td>L</td>\n      <td>3</td>\n      <td>5</td>\n    </tr>\n    <tr>\n      <th>4857</th>\n      <td>162</td>\n      <td>Oct 3</td>\n      <td>False</td>\n      <td>BOS</td>\n      <td>L,5-7</td>\n      <td>39</td>\n      <td>33</td>\n      <td>5</td>\n      <td>7</td>\n      <td>5</td>\n      <td>...</td>\n      <td>0.417</td>\n      <td>0.754</td>\n      <td>7</td>\n      <td>18</td>\n      <td>L</td>\n      <td>C.Sale(45)</td>\n      <td>WSN</td>\n      <td>L</td>\n      <td>5</td>\n      <td>7</td>\n    </tr>\n  </tbody>\n</table>\n<p>4858 rows × 35 columns</p>\n</div>"
     },
     "execution_count": 318,
     "metadata": {},
     "output_type": "execute_result"
    }
   ],
   "source": [
    "new_score_cols = ['team_w_or_l', 'team_runs', 'opp_runs']\n",
    "game_logs_df[new_score_cols] = game_logs_df['team_game_result'].apply(get_wl_and_scores)\n",
    "game_logs_df"
   ],
   "metadata": {
    "collapsed": false,
    "pycharm": {
     "name": "#%%\n"
    }
   }
  },
  {
   "cell_type": "code",
   "execution_count": 319,
   "outputs": [
    {
     "data": {
      "text/plain": "      team_game_order orig_game_date  played_at_opp opp_team team_game_result  \\\n0                   1          Apr 1           True      SDP            L,7-8   \n1                   2          Apr 2           True      SDP            L,2-4   \n2                   3          Apr 3           True      SDP            L,0-7   \n3                   4          Apr 4           True      SDP            W,3-1   \n4                   5          Apr 6           True      COL           W,10-8   \n...               ...            ...            ...      ...              ...   \n4853              158         Sep 28           True      COL            L,1-3   \n4854              159         Sep 29           True      COL           L,5-10   \n4855              160          Oct 1          False      BOS            L,2-4   \n4856              161          Oct 2          False      BOS            L,3-5   \n4857              162          Oct 3          False      BOS            L,5-7   \n\n      PA  AB   R   H  2B  ...         OppStart  team  team_w_or_l  team_runs  \\\n0     41  40   7  12   3  ...    Y.Darvish(37)   ARI            L          7   \n1     38  36   2   8   1  ...      B.Snell(62)   ARI            L          2   \n2     30  30   0   4   0  ...   J.Musgrove(74)   ARI            L          0   \n3     38  32   3   6   1  ...    C.Paddack(44)   ARI            W          3   \n4     57  53  10  13   3  ...    G.Marquez(53)   ARI            W         10   \n...   ..  ..  ..  ..  ..  ...              ...   ...          ...        ...   \n4853  35  30   1   7   2  ...   K.Freeland(57)   WSN            L          1   \n4854  41  34   5   9   2  ...    P.Lambert(20)   WSN            L          5   \n4855  41  35   2   9   2  ...  E.Rodriguez(60)   WSN            L          2   \n4856  37  31   3   5   1  ...      T.Houck(75)   WSN            L          3   \n4857  39  33   5   7   5  ...       C.Sale(45)   WSN            L          5   \n\n      opp_runs  team_won  team_at_home  opp_at_home  home_team  away_team  \n0            8       0.0           0.0          1.0        SDP        ARI  \n1            4       0.0           0.0          1.0        SDP        ARI  \n2            7       0.0           0.0          1.0        SDP        ARI  \n3            1       1.0           0.0          1.0        SDP        ARI  \n4            8       1.0           0.0          1.0        COL        ARI  \n...        ...       ...           ...          ...        ...        ...  \n4853         3       0.0           0.0          1.0        COL        WSN  \n4854        10       0.0           0.0          1.0        COL        WSN  \n4855         4       0.0           1.0          0.0        WSN        BOS  \n4856         5       0.0           1.0          0.0        WSN        BOS  \n4857         7       0.0           1.0          0.0        WSN        BOS  \n\n[4858 rows x 40 columns]",
      "text/html": "<div>\n<style scoped>\n    .dataframe tbody tr th:only-of-type {\n        vertical-align: middle;\n    }\n\n    .dataframe tbody tr th {\n        vertical-align: top;\n    }\n\n    .dataframe thead th {\n        text-align: right;\n    }\n</style>\n<table border=\"1\" class=\"dataframe\">\n  <thead>\n    <tr style=\"text-align: right;\">\n      <th></th>\n      <th>team_game_order</th>\n      <th>orig_game_date</th>\n      <th>played_at_opp</th>\n      <th>opp_team</th>\n      <th>team_game_result</th>\n      <th>PA</th>\n      <th>AB</th>\n      <th>R</th>\n      <th>H</th>\n      <th>2B</th>\n      <th>...</th>\n      <th>OppStart</th>\n      <th>team</th>\n      <th>team_w_or_l</th>\n      <th>team_runs</th>\n      <th>opp_runs</th>\n      <th>team_won</th>\n      <th>team_at_home</th>\n      <th>opp_at_home</th>\n      <th>home_team</th>\n      <th>away_team</th>\n    </tr>\n  </thead>\n  <tbody>\n    <tr>\n      <th>0</th>\n      <td>1</td>\n      <td>Apr 1</td>\n      <td>True</td>\n      <td>SDP</td>\n      <td>L,7-8</td>\n      <td>41</td>\n      <td>40</td>\n      <td>7</td>\n      <td>12</td>\n      <td>3</td>\n      <td>...</td>\n      <td>Y.Darvish(37)</td>\n      <td>ARI</td>\n      <td>L</td>\n      <td>7</td>\n      <td>8</td>\n      <td>0.0</td>\n      <td>0.0</td>\n      <td>1.0</td>\n      <td>SDP</td>\n      <td>ARI</td>\n    </tr>\n    <tr>\n      <th>1</th>\n      <td>2</td>\n      <td>Apr 2</td>\n      <td>True</td>\n      <td>SDP</td>\n      <td>L,2-4</td>\n      <td>38</td>\n      <td>36</td>\n      <td>2</td>\n      <td>8</td>\n      <td>1</td>\n      <td>...</td>\n      <td>B.Snell(62)</td>\n      <td>ARI</td>\n      <td>L</td>\n      <td>2</td>\n      <td>4</td>\n      <td>0.0</td>\n      <td>0.0</td>\n      <td>1.0</td>\n      <td>SDP</td>\n      <td>ARI</td>\n    </tr>\n    <tr>\n      <th>2</th>\n      <td>3</td>\n      <td>Apr 3</td>\n      <td>True</td>\n      <td>SDP</td>\n      <td>L,0-7</td>\n      <td>30</td>\n      <td>30</td>\n      <td>0</td>\n      <td>4</td>\n      <td>0</td>\n      <td>...</td>\n      <td>J.Musgrove(74)</td>\n      <td>ARI</td>\n      <td>L</td>\n      <td>0</td>\n      <td>7</td>\n      <td>0.0</td>\n      <td>0.0</td>\n      <td>1.0</td>\n      <td>SDP</td>\n      <td>ARI</td>\n    </tr>\n    <tr>\n      <th>3</th>\n      <td>4</td>\n      <td>Apr 4</td>\n      <td>True</td>\n      <td>SDP</td>\n      <td>W,3-1</td>\n      <td>38</td>\n      <td>32</td>\n      <td>3</td>\n      <td>6</td>\n      <td>1</td>\n      <td>...</td>\n      <td>C.Paddack(44)</td>\n      <td>ARI</td>\n      <td>W</td>\n      <td>3</td>\n      <td>1</td>\n      <td>1.0</td>\n      <td>0.0</td>\n      <td>1.0</td>\n      <td>SDP</td>\n      <td>ARI</td>\n    </tr>\n    <tr>\n      <th>4</th>\n      <td>5</td>\n      <td>Apr 6</td>\n      <td>True</td>\n      <td>COL</td>\n      <td>W,10-8</td>\n      <td>57</td>\n      <td>53</td>\n      <td>10</td>\n      <td>13</td>\n      <td>3</td>\n      <td>...</td>\n      <td>G.Marquez(53)</td>\n      <td>ARI</td>\n      <td>W</td>\n      <td>10</td>\n      <td>8</td>\n      <td>1.0</td>\n      <td>0.0</td>\n      <td>1.0</td>\n      <td>COL</td>\n      <td>ARI</td>\n    </tr>\n    <tr>\n      <th>...</th>\n      <td>...</td>\n      <td>...</td>\n      <td>...</td>\n      <td>...</td>\n      <td>...</td>\n      <td>...</td>\n      <td>...</td>\n      <td>...</td>\n      <td>...</td>\n      <td>...</td>\n      <td>...</td>\n      <td>...</td>\n      <td>...</td>\n      <td>...</td>\n      <td>...</td>\n      <td>...</td>\n      <td>...</td>\n      <td>...</td>\n      <td>...</td>\n      <td>...</td>\n      <td>...</td>\n    </tr>\n    <tr>\n      <th>4853</th>\n      <td>158</td>\n      <td>Sep 28</td>\n      <td>True</td>\n      <td>COL</td>\n      <td>L,1-3</td>\n      <td>35</td>\n      <td>30</td>\n      <td>1</td>\n      <td>7</td>\n      <td>2</td>\n      <td>...</td>\n      <td>K.Freeland(57)</td>\n      <td>WSN</td>\n      <td>L</td>\n      <td>1</td>\n      <td>3</td>\n      <td>0.0</td>\n      <td>0.0</td>\n      <td>1.0</td>\n      <td>COL</td>\n      <td>WSN</td>\n    </tr>\n    <tr>\n      <th>4854</th>\n      <td>159</td>\n      <td>Sep 29</td>\n      <td>True</td>\n      <td>COL</td>\n      <td>L,5-10</td>\n      <td>41</td>\n      <td>34</td>\n      <td>5</td>\n      <td>9</td>\n      <td>2</td>\n      <td>...</td>\n      <td>P.Lambert(20)</td>\n      <td>WSN</td>\n      <td>L</td>\n      <td>5</td>\n      <td>10</td>\n      <td>0.0</td>\n      <td>0.0</td>\n      <td>1.0</td>\n      <td>COL</td>\n      <td>WSN</td>\n    </tr>\n    <tr>\n      <th>4855</th>\n      <td>160</td>\n      <td>Oct 1</td>\n      <td>False</td>\n      <td>BOS</td>\n      <td>L,2-4</td>\n      <td>41</td>\n      <td>35</td>\n      <td>2</td>\n      <td>9</td>\n      <td>2</td>\n      <td>...</td>\n      <td>E.Rodriguez(60)</td>\n      <td>WSN</td>\n      <td>L</td>\n      <td>2</td>\n      <td>4</td>\n      <td>0.0</td>\n      <td>1.0</td>\n      <td>0.0</td>\n      <td>WSN</td>\n      <td>BOS</td>\n    </tr>\n    <tr>\n      <th>4856</th>\n      <td>161</td>\n      <td>Oct 2</td>\n      <td>False</td>\n      <td>BOS</td>\n      <td>L,3-5</td>\n      <td>37</td>\n      <td>31</td>\n      <td>3</td>\n      <td>5</td>\n      <td>1</td>\n      <td>...</td>\n      <td>T.Houck(75)</td>\n      <td>WSN</td>\n      <td>L</td>\n      <td>3</td>\n      <td>5</td>\n      <td>0.0</td>\n      <td>1.0</td>\n      <td>0.0</td>\n      <td>WSN</td>\n      <td>BOS</td>\n    </tr>\n    <tr>\n      <th>4857</th>\n      <td>162</td>\n      <td>Oct 3</td>\n      <td>False</td>\n      <td>BOS</td>\n      <td>L,5-7</td>\n      <td>39</td>\n      <td>33</td>\n      <td>5</td>\n      <td>7</td>\n      <td>5</td>\n      <td>...</td>\n      <td>C.Sale(45)</td>\n      <td>WSN</td>\n      <td>L</td>\n      <td>5</td>\n      <td>7</td>\n      <td>0.0</td>\n      <td>1.0</td>\n      <td>0.0</td>\n      <td>WSN</td>\n      <td>BOS</td>\n    </tr>\n  </tbody>\n</table>\n<p>4858 rows × 40 columns</p>\n</div>"
     },
     "execution_count": 319,
     "metadata": {},
     "output_type": "execute_result"
    }
   ],
   "source": [
    "game_logs_df['team_won'] = np.where(game_logs_df['team_w_or_l'] == 'W', 1.0, 0.0)\n",
    "game_logs_df['team_at_home'] = np.where(game_logs_df['played_at_opp'], 0.0, 1.0)\n",
    "game_logs_df['opp_at_home'] = np.where(game_logs_df['played_at_opp'], 1.0, 0.0)\n",
    "game_logs_df['home_team'] = np.where(game_logs_df['played_at_opp'], game_logs_df['opp_team'], game_logs_df['team'])\n",
    "game_logs_df['away_team'] = np.where(game_logs_df['played_at_opp'], game_logs_df['team'], game_logs_df['opp_team'])\n",
    "game_logs_df"
   ],
   "metadata": {
    "collapsed": false,
    "pycharm": {
     "name": "#%%\n"
    }
   }
  },
  {
   "cell_type": "code",
   "execution_count": 320,
   "outputs": [
    {
     "data": {
      "text/plain": "team  team_at_home  team_won\nARI   0.0           0.0         61\nLAD   1.0           1.0         58\nPIT   0.0           0.0         57\nTEX   0.0           0.0         57\nMIA   0.0           0.0         56\n                                ..\nBAL   0.0           1.0         25\nTEX   0.0           1.0         24\nPIT   0.0           1.0         24\nLAD   1.0           0.0         23\nARI   0.0           1.0         20\nLength: 120, dtype: int64"
     },
     "execution_count": 320,
     "metadata": {},
     "output_type": "execute_result"
    }
   ],
   "source": [
    "game_logs_df[['team', 'team_at_home', 'team_won']].value_counts()"
   ],
   "metadata": {
    "collapsed": false,
    "pycharm": {
     "name": "#%%\n"
    }
   }
  },
  {
   "cell_type": "code",
   "execution_count": 321,
   "outputs": [
    {
     "name": "stdout",
     "output_type": "stream",
     "text": [
      "0    2021-04-01\n",
      "1      20210401\n",
      "2          None\n",
      "dtype: object\n"
     ]
    }
   ],
   "source": [
    "def game_date_parse(game_date:str):\n",
    "\n",
    "    gd_split_dict = dict(enumerate(game_date.split(' ')))\n",
    "\n",
    "    gd_yr = 2021\n",
    "    gd_mo = gd_split_dict.get(0)\n",
    "    gd_day = gd_split_dict.get(1)\n",
    "    gd_game = gd_split_dict.get(2)\n",
    "\n",
    "    gd_date_str_in = f'{gd_mo} {gd_day}, {gd_yr}'\n",
    "    gd_as_datetime = parser.parse(gd_date_str_in)\n",
    "    game_date_formatted = gd_as_datetime.strftime('%Y-%m-%d')\n",
    "    game_date_compact = gd_as_datetime.strftime('%Y%m%d')\n",
    "\n",
    "    if gd_game is not None:\n",
    "        m = re.search('(\\d)+', gd_game)\n",
    "        dh_game_num = m.group(1)\n",
    "        #game_date_id = f'{game_date_compact}|{dh_game_num}'\n",
    "        #game_date_id_verbose = f'{game_date_formatted}, Game {dh_game_num}'\n",
    "    else:\n",
    "        dh_game_num = None\n",
    "        #game_date_id = f'{game_date_compact}|1'\n",
    "        #game_date_id_verbose = game_date_formatted\n",
    "\n",
    "    out_values = pd.Series([game_date_formatted, game_date_compact, dh_game_num])\n",
    "    return out_values\n",
    "\n",
    "print(game_date_parse(game_logs_df['orig_game_date'][0]))"
   ],
   "metadata": {
    "collapsed": false,
    "pycharm": {
     "name": "#%%\n"
    }
   }
  },
  {
   "cell_type": "code",
   "execution_count": 322,
   "outputs": [
    {
     "data": {
      "text/plain": "      team_game_order orig_game_date  played_at_opp opp_team team_game_result  \\\n0                   1          Apr 1           True      SDP            L,7-8   \n1                   2          Apr 2           True      SDP            L,2-4   \n2                   3          Apr 3           True      SDP            L,0-7   \n3                   4          Apr 4           True      SDP            W,3-1   \n4                   5          Apr 6           True      COL           W,10-8   \n...               ...            ...            ...      ...              ...   \n4853              158         Sep 28           True      COL            L,1-3   \n4854              159         Sep 29           True      COL           L,5-10   \n4855              160          Oct 1          False      BOS            L,2-4   \n4856              161          Oct 2          False      BOS            L,3-5   \n4857              162          Oct 3          False      BOS            L,5-7   \n\n      PA  AB   R   H  2B  ...  team_runs  opp_runs  team_won  team_at_home  \\\n0     41  40   7  12   3  ...          7         8       0.0           0.0   \n1     38  36   2   8   1  ...          2         4       0.0           0.0   \n2     30  30   0   4   0  ...          0         7       0.0           0.0   \n3     38  32   3   6   1  ...          3         1       1.0           0.0   \n4     57  53  10  13   3  ...         10         8       1.0           0.0   \n...   ..  ..  ..  ..  ..  ...        ...       ...       ...           ...   \n4853  35  30   1   7   2  ...          1         3       0.0           0.0   \n4854  41  34   5   9   2  ...          5        10       0.0           0.0   \n4855  41  35   2   9   2  ...          2         4       0.0           1.0   \n4856  37  31   3   5   1  ...          3         5       0.0           1.0   \n4857  39  33   5   7   5  ...          5         7       0.0           1.0   \n\n      opp_at_home  home_team  away_team   game_date  game_date_compact  \\\n0             1.0        SDP        ARI  2021-04-01           20210401   \n1             1.0        SDP        ARI  2021-04-02           20210402   \n2             1.0        SDP        ARI  2021-04-03           20210403   \n3             1.0        SDP        ARI  2021-04-04           20210404   \n4             1.0        COL        ARI  2021-04-06           20210406   \n...           ...        ...        ...         ...                ...   \n4853          1.0        COL        WSN  2021-09-28           20210928   \n4854          1.0        COL        WSN  2021-09-29           20210929   \n4855          0.0        WSN        BOS  2021-10-01           20211001   \n4856          0.0        WSN        BOS  2021-10-02           20211002   \n4857          0.0        WSN        BOS  2021-10-03           20211003   \n\n      dh_game_num  \n0            None  \n1            None  \n2            None  \n3            None  \n4            None  \n...           ...  \n4853         None  \n4854         None  \n4855         None  \n4856         None  \n4857         None  \n\n[4858 rows x 43 columns]",
      "text/html": "<div>\n<style scoped>\n    .dataframe tbody tr th:only-of-type {\n        vertical-align: middle;\n    }\n\n    .dataframe tbody tr th {\n        vertical-align: top;\n    }\n\n    .dataframe thead th {\n        text-align: right;\n    }\n</style>\n<table border=\"1\" class=\"dataframe\">\n  <thead>\n    <tr style=\"text-align: right;\">\n      <th></th>\n      <th>team_game_order</th>\n      <th>orig_game_date</th>\n      <th>played_at_opp</th>\n      <th>opp_team</th>\n      <th>team_game_result</th>\n      <th>PA</th>\n      <th>AB</th>\n      <th>R</th>\n      <th>H</th>\n      <th>2B</th>\n      <th>...</th>\n      <th>team_runs</th>\n      <th>opp_runs</th>\n      <th>team_won</th>\n      <th>team_at_home</th>\n      <th>opp_at_home</th>\n      <th>home_team</th>\n      <th>away_team</th>\n      <th>game_date</th>\n      <th>game_date_compact</th>\n      <th>dh_game_num</th>\n    </tr>\n  </thead>\n  <tbody>\n    <tr>\n      <th>0</th>\n      <td>1</td>\n      <td>Apr 1</td>\n      <td>True</td>\n      <td>SDP</td>\n      <td>L,7-8</td>\n      <td>41</td>\n      <td>40</td>\n      <td>7</td>\n      <td>12</td>\n      <td>3</td>\n      <td>...</td>\n      <td>7</td>\n      <td>8</td>\n      <td>0.0</td>\n      <td>0.0</td>\n      <td>1.0</td>\n      <td>SDP</td>\n      <td>ARI</td>\n      <td>2021-04-01</td>\n      <td>20210401</td>\n      <td>None</td>\n    </tr>\n    <tr>\n      <th>1</th>\n      <td>2</td>\n      <td>Apr 2</td>\n      <td>True</td>\n      <td>SDP</td>\n      <td>L,2-4</td>\n      <td>38</td>\n      <td>36</td>\n      <td>2</td>\n      <td>8</td>\n      <td>1</td>\n      <td>...</td>\n      <td>2</td>\n      <td>4</td>\n      <td>0.0</td>\n      <td>0.0</td>\n      <td>1.0</td>\n      <td>SDP</td>\n      <td>ARI</td>\n      <td>2021-04-02</td>\n      <td>20210402</td>\n      <td>None</td>\n    </tr>\n    <tr>\n      <th>2</th>\n      <td>3</td>\n      <td>Apr 3</td>\n      <td>True</td>\n      <td>SDP</td>\n      <td>L,0-7</td>\n      <td>30</td>\n      <td>30</td>\n      <td>0</td>\n      <td>4</td>\n      <td>0</td>\n      <td>...</td>\n      <td>0</td>\n      <td>7</td>\n      <td>0.0</td>\n      <td>0.0</td>\n      <td>1.0</td>\n      <td>SDP</td>\n      <td>ARI</td>\n      <td>2021-04-03</td>\n      <td>20210403</td>\n      <td>None</td>\n    </tr>\n    <tr>\n      <th>3</th>\n      <td>4</td>\n      <td>Apr 4</td>\n      <td>True</td>\n      <td>SDP</td>\n      <td>W,3-1</td>\n      <td>38</td>\n      <td>32</td>\n      <td>3</td>\n      <td>6</td>\n      <td>1</td>\n      <td>...</td>\n      <td>3</td>\n      <td>1</td>\n      <td>1.0</td>\n      <td>0.0</td>\n      <td>1.0</td>\n      <td>SDP</td>\n      <td>ARI</td>\n      <td>2021-04-04</td>\n      <td>20210404</td>\n      <td>None</td>\n    </tr>\n    <tr>\n      <th>4</th>\n      <td>5</td>\n      <td>Apr 6</td>\n      <td>True</td>\n      <td>COL</td>\n      <td>W,10-8</td>\n      <td>57</td>\n      <td>53</td>\n      <td>10</td>\n      <td>13</td>\n      <td>3</td>\n      <td>...</td>\n      <td>10</td>\n      <td>8</td>\n      <td>1.0</td>\n      <td>0.0</td>\n      <td>1.0</td>\n      <td>COL</td>\n      <td>ARI</td>\n      <td>2021-04-06</td>\n      <td>20210406</td>\n      <td>None</td>\n    </tr>\n    <tr>\n      <th>...</th>\n      <td>...</td>\n      <td>...</td>\n      <td>...</td>\n      <td>...</td>\n      <td>...</td>\n      <td>...</td>\n      <td>...</td>\n      <td>...</td>\n      <td>...</td>\n      <td>...</td>\n      <td>...</td>\n      <td>...</td>\n      <td>...</td>\n      <td>...</td>\n      <td>...</td>\n      <td>...</td>\n      <td>...</td>\n      <td>...</td>\n      <td>...</td>\n      <td>...</td>\n      <td>...</td>\n    </tr>\n    <tr>\n      <th>4853</th>\n      <td>158</td>\n      <td>Sep 28</td>\n      <td>True</td>\n      <td>COL</td>\n      <td>L,1-3</td>\n      <td>35</td>\n      <td>30</td>\n      <td>1</td>\n      <td>7</td>\n      <td>2</td>\n      <td>...</td>\n      <td>1</td>\n      <td>3</td>\n      <td>0.0</td>\n      <td>0.0</td>\n      <td>1.0</td>\n      <td>COL</td>\n      <td>WSN</td>\n      <td>2021-09-28</td>\n      <td>20210928</td>\n      <td>None</td>\n    </tr>\n    <tr>\n      <th>4854</th>\n      <td>159</td>\n      <td>Sep 29</td>\n      <td>True</td>\n      <td>COL</td>\n      <td>L,5-10</td>\n      <td>41</td>\n      <td>34</td>\n      <td>5</td>\n      <td>9</td>\n      <td>2</td>\n      <td>...</td>\n      <td>5</td>\n      <td>10</td>\n      <td>0.0</td>\n      <td>0.0</td>\n      <td>1.0</td>\n      <td>COL</td>\n      <td>WSN</td>\n      <td>2021-09-29</td>\n      <td>20210929</td>\n      <td>None</td>\n    </tr>\n    <tr>\n      <th>4855</th>\n      <td>160</td>\n      <td>Oct 1</td>\n      <td>False</td>\n      <td>BOS</td>\n      <td>L,2-4</td>\n      <td>41</td>\n      <td>35</td>\n      <td>2</td>\n      <td>9</td>\n      <td>2</td>\n      <td>...</td>\n      <td>2</td>\n      <td>4</td>\n      <td>0.0</td>\n      <td>1.0</td>\n      <td>0.0</td>\n      <td>WSN</td>\n      <td>BOS</td>\n      <td>2021-10-01</td>\n      <td>20211001</td>\n      <td>None</td>\n    </tr>\n    <tr>\n      <th>4856</th>\n      <td>161</td>\n      <td>Oct 2</td>\n      <td>False</td>\n      <td>BOS</td>\n      <td>L,3-5</td>\n      <td>37</td>\n      <td>31</td>\n      <td>3</td>\n      <td>5</td>\n      <td>1</td>\n      <td>...</td>\n      <td>3</td>\n      <td>5</td>\n      <td>0.0</td>\n      <td>1.0</td>\n      <td>0.0</td>\n      <td>WSN</td>\n      <td>BOS</td>\n      <td>2021-10-02</td>\n      <td>20211002</td>\n      <td>None</td>\n    </tr>\n    <tr>\n      <th>4857</th>\n      <td>162</td>\n      <td>Oct 3</td>\n      <td>False</td>\n      <td>BOS</td>\n      <td>L,5-7</td>\n      <td>39</td>\n      <td>33</td>\n      <td>5</td>\n      <td>7</td>\n      <td>5</td>\n      <td>...</td>\n      <td>5</td>\n      <td>7</td>\n      <td>0.0</td>\n      <td>1.0</td>\n      <td>0.0</td>\n      <td>WSN</td>\n      <td>BOS</td>\n      <td>2021-10-03</td>\n      <td>20211003</td>\n      <td>None</td>\n    </tr>\n  </tbody>\n</table>\n<p>4858 rows × 43 columns</p>\n</div>"
     },
     "execution_count": 322,
     "metadata": {},
     "output_type": "execute_result"
    }
   ],
   "source": [
    "new_game_date_cols = ['game_date', 'game_date_compact', 'dh_game_num']\n",
    "game_logs_df[new_game_date_cols] = game_logs_df['orig_game_date'].apply(game_date_parse)\n",
    "game_logs_df"
   ],
   "metadata": {
    "collapsed": false,
    "pycharm": {
     "name": "#%%\n"
    }
   }
  },
  {
   "cell_type": "code",
   "execution_count": 323,
   "outputs": [
    {
     "data": {
      "text/plain": "0                            ATL, STL\n1                             STL@ATL\n2                  20210620|STL@ATL|1\n3    STL at ATL on 2021-06-20, Game 1\ndtype: object"
     },
     "execution_count": 323,
     "metadata": {},
     "output_type": "execute_result"
    }
   ],
   "source": [
    "def get_game_strs(game:pd.Series):\n",
    "    away_team = game['away_team']\n",
    "    home_team = game['home_team']\n",
    "    game_date = game['game_date']\n",
    "    game_date_compact = game['game_date_compact']\n",
    "    dh_game_num = game['dh_game_num']\n",
    "\n",
    "    teams_in_game_list = [away_team, home_team]\n",
    "    teams_in_game_list.sort()\n",
    "    teams_in_game_str = ', '.join(teams_in_game_list)\n",
    "    #print(teams_in_game_str)\n",
    "\n",
    "    game_teams_str_compact = f'{away_team}@{home_team}'\n",
    "    game_teams_str_verbose = f'{away_team} at {home_team}'\n",
    "    #print(game_teams_str)\n",
    "\n",
    "    if dh_game_num is not None:\n",
    "        game_uid_str = f'{game_date_compact}|{game_teams_str_compact}|{dh_game_num}'\n",
    "        game_desc_str = f'{game_teams_str_verbose} on {game_date}, Game {dh_game_num}'\n",
    "    else:\n",
    "        game_uid_str = f'{game_date_compact}|{game_teams_str_compact}|1'\n",
    "        game_desc_str = f'{game_teams_str_verbose} on {game_date}'\n",
    "    #print(game_teams_date_str)\n",
    "\n",
    "    out_values = pd.Series([teams_in_game_str, game_teams_str_compact, game_uid_str, game_desc_str])\n",
    "    return out_values\n",
    "\n",
    "\n",
    "get_game_strs(game_logs_df.loc[229,:])"
   ],
   "metadata": {
    "collapsed": false,
    "pycharm": {
     "name": "#%%\n"
    }
   }
  },
  {
   "cell_type": "code",
   "execution_count": 324,
   "outputs": [
    {
     "data": {
      "text/plain": "      team_game_order orig_game_date  played_at_opp opp_team team_game_result  \\\n0                   1          Apr 1           True      SDP            L,7-8   \n1                   2          Apr 2           True      SDP            L,2-4   \n2                   3          Apr 3           True      SDP            L,0-7   \n3                   4          Apr 4           True      SDP            W,3-1   \n4                   5          Apr 6           True      COL           W,10-8   \n...               ...            ...            ...      ...              ...   \n4853              158         Sep 28           True      COL            L,1-3   \n4854              159         Sep 29           True      COL           L,5-10   \n4855              160          Oct 1          False      BOS            L,2-4   \n4856              161          Oct 2          False      BOS            L,3-5   \n4857              162          Oct 3          False      BOS            L,5-7   \n\n      PA  AB   R   H  2B  ...  opp_at_home  home_team  away_team   game_date  \\\n0     41  40   7  12   3  ...          1.0        SDP        ARI  2021-04-01   \n1     38  36   2   8   1  ...          1.0        SDP        ARI  2021-04-02   \n2     30  30   0   4   0  ...          1.0        SDP        ARI  2021-04-03   \n3     38  32   3   6   1  ...          1.0        SDP        ARI  2021-04-04   \n4     57  53  10  13   3  ...          1.0        COL        ARI  2021-04-06   \n...   ..  ..  ..  ..  ..  ...          ...        ...        ...         ...   \n4853  35  30   1   7   2  ...          1.0        COL        WSN  2021-09-28   \n4854  41  34   5   9   2  ...          1.0        COL        WSN  2021-09-29   \n4855  41  35   2   9   2  ...          0.0        WSN        BOS  2021-10-01   \n4856  37  31   3   5   1  ...          0.0        WSN        BOS  2021-10-02   \n4857  39  33   5   7   5  ...          0.0        WSN        BOS  2021-10-03   \n\n      game_date_compact  dh_game_num  teams_in_game  teams_and_game_loc  \\\n0              20210401         None       ARI, SDP             ARI@SDP   \n1              20210402         None       ARI, SDP             ARI@SDP   \n2              20210403         None       ARI, SDP             ARI@SDP   \n3              20210404         None       ARI, SDP             ARI@SDP   \n4              20210406         None       ARI, COL             ARI@COL   \n...                 ...          ...            ...                 ...   \n4853           20210928         None       COL, WSN             WSN@COL   \n4854           20210929         None       COL, WSN             WSN@COL   \n4855           20211001         None       BOS, WSN             BOS@WSN   \n4856           20211002         None       BOS, WSN             BOS@WSN   \n4857           20211003         None       BOS, WSN             BOS@WSN   \n\n                game_uid                 game_desc  \n0     20210401|ARI@SDP|1  ARI at SDP on 2021-04-01  \n1     20210402|ARI@SDP|1  ARI at SDP on 2021-04-02  \n2     20210403|ARI@SDP|1  ARI at SDP on 2021-04-03  \n3     20210404|ARI@SDP|1  ARI at SDP on 2021-04-04  \n4     20210406|ARI@COL|1  ARI at COL on 2021-04-06  \n...                  ...                       ...  \n4853  20210928|WSN@COL|1  WSN at COL on 2021-09-28  \n4854  20210929|WSN@COL|1  WSN at COL on 2021-09-29  \n4855  20211001|BOS@WSN|1  BOS at WSN on 2021-10-01  \n4856  20211002|BOS@WSN|1  BOS at WSN on 2021-10-02  \n4857  20211003|BOS@WSN|1  BOS at WSN on 2021-10-03  \n\n[4858 rows x 47 columns]",
      "text/html": "<div>\n<style scoped>\n    .dataframe tbody tr th:only-of-type {\n        vertical-align: middle;\n    }\n\n    .dataframe tbody tr th {\n        vertical-align: top;\n    }\n\n    .dataframe thead th {\n        text-align: right;\n    }\n</style>\n<table border=\"1\" class=\"dataframe\">\n  <thead>\n    <tr style=\"text-align: right;\">\n      <th></th>\n      <th>team_game_order</th>\n      <th>orig_game_date</th>\n      <th>played_at_opp</th>\n      <th>opp_team</th>\n      <th>team_game_result</th>\n      <th>PA</th>\n      <th>AB</th>\n      <th>R</th>\n      <th>H</th>\n      <th>2B</th>\n      <th>...</th>\n      <th>opp_at_home</th>\n      <th>home_team</th>\n      <th>away_team</th>\n      <th>game_date</th>\n      <th>game_date_compact</th>\n      <th>dh_game_num</th>\n      <th>teams_in_game</th>\n      <th>teams_and_game_loc</th>\n      <th>game_uid</th>\n      <th>game_desc</th>\n    </tr>\n  </thead>\n  <tbody>\n    <tr>\n      <th>0</th>\n      <td>1</td>\n      <td>Apr 1</td>\n      <td>True</td>\n      <td>SDP</td>\n      <td>L,7-8</td>\n      <td>41</td>\n      <td>40</td>\n      <td>7</td>\n      <td>12</td>\n      <td>3</td>\n      <td>...</td>\n      <td>1.0</td>\n      <td>SDP</td>\n      <td>ARI</td>\n      <td>2021-04-01</td>\n      <td>20210401</td>\n      <td>None</td>\n      <td>ARI, SDP</td>\n      <td>ARI@SDP</td>\n      <td>20210401|ARI@SDP|1</td>\n      <td>ARI at SDP on 2021-04-01</td>\n    </tr>\n    <tr>\n      <th>1</th>\n      <td>2</td>\n      <td>Apr 2</td>\n      <td>True</td>\n      <td>SDP</td>\n      <td>L,2-4</td>\n      <td>38</td>\n      <td>36</td>\n      <td>2</td>\n      <td>8</td>\n      <td>1</td>\n      <td>...</td>\n      <td>1.0</td>\n      <td>SDP</td>\n      <td>ARI</td>\n      <td>2021-04-02</td>\n      <td>20210402</td>\n      <td>None</td>\n      <td>ARI, SDP</td>\n      <td>ARI@SDP</td>\n      <td>20210402|ARI@SDP|1</td>\n      <td>ARI at SDP on 2021-04-02</td>\n    </tr>\n    <tr>\n      <th>2</th>\n      <td>3</td>\n      <td>Apr 3</td>\n      <td>True</td>\n      <td>SDP</td>\n      <td>L,0-7</td>\n      <td>30</td>\n      <td>30</td>\n      <td>0</td>\n      <td>4</td>\n      <td>0</td>\n      <td>...</td>\n      <td>1.0</td>\n      <td>SDP</td>\n      <td>ARI</td>\n      <td>2021-04-03</td>\n      <td>20210403</td>\n      <td>None</td>\n      <td>ARI, SDP</td>\n      <td>ARI@SDP</td>\n      <td>20210403|ARI@SDP|1</td>\n      <td>ARI at SDP on 2021-04-03</td>\n    </tr>\n    <tr>\n      <th>3</th>\n      <td>4</td>\n      <td>Apr 4</td>\n      <td>True</td>\n      <td>SDP</td>\n      <td>W,3-1</td>\n      <td>38</td>\n      <td>32</td>\n      <td>3</td>\n      <td>6</td>\n      <td>1</td>\n      <td>...</td>\n      <td>1.0</td>\n      <td>SDP</td>\n      <td>ARI</td>\n      <td>2021-04-04</td>\n      <td>20210404</td>\n      <td>None</td>\n      <td>ARI, SDP</td>\n      <td>ARI@SDP</td>\n      <td>20210404|ARI@SDP|1</td>\n      <td>ARI at SDP on 2021-04-04</td>\n    </tr>\n    <tr>\n      <th>4</th>\n      <td>5</td>\n      <td>Apr 6</td>\n      <td>True</td>\n      <td>COL</td>\n      <td>W,10-8</td>\n      <td>57</td>\n      <td>53</td>\n      <td>10</td>\n      <td>13</td>\n      <td>3</td>\n      <td>...</td>\n      <td>1.0</td>\n      <td>COL</td>\n      <td>ARI</td>\n      <td>2021-04-06</td>\n      <td>20210406</td>\n      <td>None</td>\n      <td>ARI, COL</td>\n      <td>ARI@COL</td>\n      <td>20210406|ARI@COL|1</td>\n      <td>ARI at COL on 2021-04-06</td>\n    </tr>\n    <tr>\n      <th>...</th>\n      <td>...</td>\n      <td>...</td>\n      <td>...</td>\n      <td>...</td>\n      <td>...</td>\n      <td>...</td>\n      <td>...</td>\n      <td>...</td>\n      <td>...</td>\n      <td>...</td>\n      <td>...</td>\n      <td>...</td>\n      <td>...</td>\n      <td>...</td>\n      <td>...</td>\n      <td>...</td>\n      <td>...</td>\n      <td>...</td>\n      <td>...</td>\n      <td>...</td>\n      <td>...</td>\n    </tr>\n    <tr>\n      <th>4853</th>\n      <td>158</td>\n      <td>Sep 28</td>\n      <td>True</td>\n      <td>COL</td>\n      <td>L,1-3</td>\n      <td>35</td>\n      <td>30</td>\n      <td>1</td>\n      <td>7</td>\n      <td>2</td>\n      <td>...</td>\n      <td>1.0</td>\n      <td>COL</td>\n      <td>WSN</td>\n      <td>2021-09-28</td>\n      <td>20210928</td>\n      <td>None</td>\n      <td>COL, WSN</td>\n      <td>WSN@COL</td>\n      <td>20210928|WSN@COL|1</td>\n      <td>WSN at COL on 2021-09-28</td>\n    </tr>\n    <tr>\n      <th>4854</th>\n      <td>159</td>\n      <td>Sep 29</td>\n      <td>True</td>\n      <td>COL</td>\n      <td>L,5-10</td>\n      <td>41</td>\n      <td>34</td>\n      <td>5</td>\n      <td>9</td>\n      <td>2</td>\n      <td>...</td>\n      <td>1.0</td>\n      <td>COL</td>\n      <td>WSN</td>\n      <td>2021-09-29</td>\n      <td>20210929</td>\n      <td>None</td>\n      <td>COL, WSN</td>\n      <td>WSN@COL</td>\n      <td>20210929|WSN@COL|1</td>\n      <td>WSN at COL on 2021-09-29</td>\n    </tr>\n    <tr>\n      <th>4855</th>\n      <td>160</td>\n      <td>Oct 1</td>\n      <td>False</td>\n      <td>BOS</td>\n      <td>L,2-4</td>\n      <td>41</td>\n      <td>35</td>\n      <td>2</td>\n      <td>9</td>\n      <td>2</td>\n      <td>...</td>\n      <td>0.0</td>\n      <td>WSN</td>\n      <td>BOS</td>\n      <td>2021-10-01</td>\n      <td>20211001</td>\n      <td>None</td>\n      <td>BOS, WSN</td>\n      <td>BOS@WSN</td>\n      <td>20211001|BOS@WSN|1</td>\n      <td>BOS at WSN on 2021-10-01</td>\n    </tr>\n    <tr>\n      <th>4856</th>\n      <td>161</td>\n      <td>Oct 2</td>\n      <td>False</td>\n      <td>BOS</td>\n      <td>L,3-5</td>\n      <td>37</td>\n      <td>31</td>\n      <td>3</td>\n      <td>5</td>\n      <td>1</td>\n      <td>...</td>\n      <td>0.0</td>\n      <td>WSN</td>\n      <td>BOS</td>\n      <td>2021-10-02</td>\n      <td>20211002</td>\n      <td>None</td>\n      <td>BOS, WSN</td>\n      <td>BOS@WSN</td>\n      <td>20211002|BOS@WSN|1</td>\n      <td>BOS at WSN on 2021-10-02</td>\n    </tr>\n    <tr>\n      <th>4857</th>\n      <td>162</td>\n      <td>Oct 3</td>\n      <td>False</td>\n      <td>BOS</td>\n      <td>L,5-7</td>\n      <td>39</td>\n      <td>33</td>\n      <td>5</td>\n      <td>7</td>\n      <td>5</td>\n      <td>...</td>\n      <td>0.0</td>\n      <td>WSN</td>\n      <td>BOS</td>\n      <td>2021-10-03</td>\n      <td>20211003</td>\n      <td>None</td>\n      <td>BOS, WSN</td>\n      <td>BOS@WSN</td>\n      <td>20211003|BOS@WSN|1</td>\n      <td>BOS at WSN on 2021-10-03</td>\n    </tr>\n  </tbody>\n</table>\n<p>4858 rows × 47 columns</p>\n</div>"
     },
     "execution_count": 324,
     "metadata": {},
     "output_type": "execute_result"
    }
   ],
   "source": [
    "new_game_spec_cols = ['teams_in_game', 'teams_and_game_loc', 'game_uid', 'game_desc']\n",
    "game_logs_df[new_game_spec_cols] = game_logs_df.apply(get_game_strs, axis = 1)\n",
    "game_logs_df"
   ],
   "metadata": {
    "collapsed": false,
    "pycharm": {
     "name": "#%%\n"
    }
   }
  },
  {
   "cell_type": "code",
   "execution_count": 325,
   "outputs": [],
   "source": [
    "game_logs_df.to_csv('data/2021_game_logs_preproc.csv')"
   ],
   "metadata": {
    "collapsed": false,
    "pycharm": {
     "name": "#%%\n"
    }
   }
  },
  {
   "cell_type": "code",
   "execution_count": 325,
   "outputs": [],
   "source": [],
   "metadata": {
    "collapsed": false,
    "pycharm": {
     "name": "#%%\n"
    }
   }
  }
 ],
 "metadata": {
  "kernelspec": {
   "display_name": "Python 3",
   "language": "python",
   "name": "python3"
  },
  "language_info": {
   "codemirror_mode": {
    "name": "ipython",
    "version": 2
   },
   "file_extension": ".py",
   "mimetype": "text/x-python",
   "name": "python",
   "nbconvert_exporter": "python",
   "pygments_lexer": "ipython2",
   "version": "2.7.6"
  }
 },
 "nbformat": 4,
 "nbformat_minor": 0
}